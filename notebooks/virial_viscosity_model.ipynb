{
 "cells": [
  {
   "cell_type": "markdown",
   "metadata": {},
   "source": [
    "# Optimization of Lennard-Jones potential for low density limit"
   ]
  },
  {
   "cell_type": "markdown",
   "metadata": {},
   "source": [
    "### Loss function based on the second virial coefficient (function of pressure, temperature and LJ parameters)\n",
    "\n",
    "$$ L\\left(\\sigma, \\epsilon, P, T\\right) = V\\sum_{P, T}\\left(\\frac{P}{k_BT}\\right)^3\n",
    "\\left[B_{t}\\left(T\\right) - B_{m}\\left(\\sigma,\\epsilon,T\\right)\\right]^2 $$"
   ]
  },
  {
   "cell_type": "markdown",
   "metadata": {},
   "source": [
    "### Alternatively (with higher accuracy over a wider range of densities), loss function based on the density (function of pressure, temperature and LJ parameters)\n",
    "\n",
    "$$ L\\left(\\sigma, \\epsilon, P, T\\right) = \\frac{V}{4}\\sum_{P, T}\n",
    "\\frac{\\left[\\rho_{t}\\left(T\\right) - \\rho_{m}\\left(\\sigma,\\epsilon,T\\right)\\right]^2}{\\frac{\\rho_{T}\\left(T\\right)}{1+2B_{t}\\rho_{t}} + \\frac{\\rho_{m}\\left(\\sigma,\\epsilon,T\\right)}{1+2B_{m}\\rho_{m}}} $$\n",
    "\n",
    "**with number density ($mol/m^3$) determined from equation of state as**\n",
    "\n",
    "$$ \\rho = \\frac{-1 + \\sqrt{1+\\frac{4BP}{RT}}}{2B} $$"
   ]
  },
  {
   "cell_type": "markdown",
   "metadata": {},
   "source": [
    "### Loss function based on diffusion coefficient (distance between gaussian distributions)\n",
    "\n",
    "$$ L\\left(\\sigma, \\epsilon, P, T\\right) = \\ln\\frac{D_{target}+D_{model}}{2 \\sqrt{D_{target}D_{model}}} $$"
   ]
  },
  {
   "cell_type": "code",
   "execution_count": 3,
   "metadata": {},
   "outputs": [],
   "source": [
    "import numpy as np\n",
    "from scipy.optimize import minimize"
   ]
  },
  {
   "cell_type": "markdown",
   "metadata": {},
   "source": [
    "## Second virial coefficient as a function of temperature and LJ parameters"
   ]
  },
  {
   "cell_type": "code",
   "execution_count": 4,
   "metadata": {},
   "outputs": [],
   "source": [
    "def b2(T, sig=1.0, eps=1.0, verbose=False):\n",
    "    \"\"\"Returns second virial coefficient of Lennard-Jones fluid\n",
    "    \n",
    "    Parameters\n",
    "    ----------\n",
    "    T : float\n",
    "        Absolute temperature (K)\n",
    "    sig : float\n",
    "        Size parameter (Angstrom)\n",
    "    eps : float\n",
    "        Energy parameter (K)\n",
    "        \n",
    "    Returns\n",
    "    -------\n",
    "    b2 : float\n",
    "        second virial coefficient (m^3/mol)\n",
    "    \"\"\"\n",
    "    \n",
    "    # Reduced temperature\n",
    "    #Tr = T*8.314472/(eps*1000.0)\n",
    "    Tr = T/eps\n",
    "    \n",
    "    # Check if the reduced temperature is safe range\n",
    "    if verbose and (Tr < 0.3 or Tr > 10000.0):\n",
    "        print(f'Temperature {Tr} K is not in range 298-3000 K.')\n",
    "        \n",
    "    # Reduced virial coefficient\n",
    "    Br  = 1.9863*Tr**(-0.25) - 1.5985*Tr**(-0.5) - 6.7636*Tr**(-1.5)\n",
    "    Br += 8.0952*Tr**(-2.0) - 4.8797*Tr**(-2.5) + 0.89417*Tr**(-3.5)\n",
    "    Br -= 0.25573*Tr**(-4.0) - 0.015386*Tr**(-5.0)\n",
    "    \n",
    "    Na = 6.0221409e23\n",
    "    b0 = 2*np.pi*Na*(sig*1e-10)**3/3\n",
    "    \n",
    "    B2 = Br*b0\n",
    "    \n",
    "    return B2"
   ]
  },
  {
   "cell_type": "code",
   "execution_count": 16,
   "metadata": {},
   "outputs": [],
   "source": [
    "def density(P, T, b2):\n",
    "    \n",
    "    R = 8.314472\n",
    "    rho = (-1 + np.sqrt(1 + 4*P*b2/(R*T))) / (2*b2)\n",
    "    \n",
    "    return rho"
   ]
  },
  {
   "cell_type": "markdown",
   "metadata": {},
   "source": [
    "## Reduced collision integrals for LJ potential"
   ]
  },
  {
   "cell_type": "code",
   "execution_count": 5,
   "metadata": {},
   "outputs": [],
   "source": [
    "class Omega:\n",
    "    \"\"\"Collision integrals for Lennard-Jones potential\"\"\"\n",
    "    \n",
    "    def __init__(self, coeffs):\n",
    "        if isinstance(coeffs, dict):\n",
    "            self.coeffs = coeffs\n",
    "        elif isinstance(coeffs, np.ndarray):\n",
    "            self.coeffs = self.make_dict(coeffs)\n",
    "        else:\n",
    "            raise TypeError\n",
    "            \n",
    "    def make_dict(self, coeffs_array):\n",
    "        \"\"\"Creates a dictionary from supplied coefficient ndarray.\n",
    "        \n",
    "        Works for a particular structure of ndarray - should be modified\n",
    "        if other format is used.\n",
    "        \"\"\"\n",
    "        \n",
    "        ls_tuples = [(1, i) for i in range(1, 8)] + [(2, i) for i in range(2, 7)] + [(3,3), (3,4), (3,5), (4,4)]\n",
    "        b_list = [1, 3, 5, 8, 10, 6]\n",
    "        c_list = [2, 4, 7, 9, 11, 12]\n",
    "        b_fac = np.array([1., 1., 10., 10., 100., 1000.])\n",
    "        c_fac = np.array([1., 10., 10., 100., 1000., 10000.])\n",
    "\n",
    "        coeffs = {}\n",
    "        for i in range(16):\n",
    "            ls = ls_tuples[i]\n",
    "            coeffs[ls] = {}\n",
    "            coeffs[ls]['a'] = coeffs_array[0,i]\n",
    "            coeffs[ls]['b'] = coeffs_array[b_list, i]/b_fac\n",
    "            coeffs[ls]['c'] = coeffs_array[c_list, i]/c_fac\n",
    "\n",
    "        return coeffs\n",
    "        \n",
    "    def get(self, Tr, l=1, s=1):\n",
    "        \"\"\"Returns collision integral for a given temperature\"\"\"\n",
    "        coeff = self.coeffs[(l, s)]\n",
    "        b = coeff['b']\n",
    "        c = coeff['c']\n",
    "        omega = coeff['a']\n",
    "        omega += sum([b[k-1]*Tr**(-k) + c[k-1]*np.log(Tr)**k for k in range(1, 7)])\n",
    "    \n",
    "        return omega"
   ]
  },
  {
   "cell_type": "code",
   "execution_count": null,
   "metadata": {},
   "outputs": [],
   "source": [
    "def diff_coeff()"
   ]
  },
  {
   "cell_type": "code",
   "execution_count": 6,
   "metadata": {},
   "outputs": [],
   "source": [
    "# read data from file\n",
    "cc = np.loadtxt('../data/raw/coeffs_num.txt')"
   ]
  },
  {
   "cell_type": "code",
   "execution_count": 7,
   "metadata": {},
   "outputs": [],
   "source": [
    "omg = Omega(cc)"
   ]
  },
  {
   "cell_type": "code",
   "execution_count": 8,
   "metadata": {},
   "outputs": [
    {
     "data": {
      "text/plain": [
       "1.1127095589290001"
      ]
     },
     "execution_count": 8,
     "metadata": {},
     "output_type": "execute_result"
    }
   ],
   "source": [
    "omg.get(1.0, 2, 6)"
   ]
  },
  {
   "cell_type": "code",
   "execution_count": 18,
   "metadata": {},
   "outputs": [],
   "source": [
    "def diff_correction(Tr):\n",
    "    \n",
    "    o_11 = omg.get(Tr, 1, 1)\n",
    "    o_12 = omg.get(Tr, 1, 2)\n",
    "    o_13 = omg.get(Tr, 1, 3)\n",
    "    o_22 = omg.get(Tr, 2, 2)\n",
    "    \n",
    "    A = o_22/o_11\n",
    "    B = (5*o_12 - 4*o_13)/o_11\n",
    "    C = o_12/o_11\n",
    "    \n",
    "    fd = 1 - (6*C - 5)**2 / (55 - 12*B + 16*A)\n",
    "    fd /= 1.0\n",
    "    \n",
    "    return fd"
   ]
  },
  {
   "cell_type": "markdown",
   "metadata": {},
   "source": [
    "## Target data\n",
    "\n",
    "* Second virial coefficient over a range of temperatures (i.e., low density equation of state)\n",
    "* Low-density viscosities"
   ]
  },
  {
   "cell_type": "code",
   "execution_count": 14,
   "metadata": {},
   "outputs": [],
   "source": [
    "# (P, T) conditions\n",
    "T_list = np.linspace(300, 2500, 23)\n",
    "PT_list = [(1., T) for T in T_list]\n",
    "#PT_list"
   ]
  },
  {
   "cell_type": "markdown",
   "metadata": {},
   "source": [
    "## Optimization\n",
    "\n",
    "* Optimize over a range of temperatures (and pressures)"
   ]
  },
  {
   "cell_type": "code",
   "execution_count": null,
   "metadata": {},
   "outputs": [],
   "source": [
    "def loss_rho(params, PT_list, rho_target):\n",
    "    \n",
    "    assert len(T_list) == len(P_list), 'Lengths of P and T lists do not match'\n",
    "    \n",
    "    # ignoring prefactor V/4\n",
    "    loss = 0.0\n",
    "    for P, T, b2_m, b2_t in zip(P_list, T_list, b2_model, b2_target):\n",
    "        loss += (P/T)**3 * (b2_m - b2_t)**2\n",
    "    \n",
    "    return loss"
   ]
  },
  {
   "cell_type": "code",
   "execution_count": 12,
   "metadata": {},
   "outputs": [],
   "source": [
    "def loss_b2(params, PT_list, b2_target):\n",
    "    \n",
    "    assert len(T_list) == len(P_list), 'Lengths of P and T lists do not match'\n",
    "    \n",
    "    # list of model B2 for a given list of temperatures\n",
    "    b2_model = [b2(T, params[0], params[1]) for P, T in PT_list]\n",
    "    \n",
    "    # ignoring prefactor V/(k_B)^3\n",
    "    # If P is only one (P->0), it can be included in the prefactor\n",
    "    loss = 0.0\n",
    "    for P, T, b2_m, b2_t in zip(P_list, T_list, b2_model, b2_target):\n",
    "        loss += (P/T)**3 * (b2_m - b2_t)**2\n",
    "\n",
    "    return loss"
   ]
  },
  {
   "cell_type": "code",
   "execution_count": 13,
   "metadata": {},
   "outputs": [],
   "source": [
    "# initial parameters (sigma (A), epsilon (K))\n",
    "params_in = np.array([2.92, 393.7])"
   ]
  },
  {
   "cell_type": "code",
   "execution_count": 15,
   "metadata": {},
   "outputs": [
    {
     "ename": "NameError",
     "evalue": "name 'b2_target' is not defined",
     "output_type": "error",
     "traceback": [
      "\u001b[0;31m---------------------------------------------------------------------------\u001b[0m",
      "\u001b[0;31mNameError\u001b[0m                                 Traceback (most recent call last)",
      "\u001b[0;32m<ipython-input-15-3639fc90c84d>\u001b[0m in \u001b[0;36m<module>\u001b[0;34m()\u001b[0m\n\u001b[0;32m----> 1\u001b[0;31m \u001b[0mresult\u001b[0m \u001b[0;34m=\u001b[0m \u001b[0mminimize\u001b[0m\u001b[0;34m(\u001b[0m\u001b[0mloss_b2\u001b[0m\u001b[0;34m,\u001b[0m \u001b[0mparams_in\u001b[0m\u001b[0;34m,\u001b[0m \u001b[0margs\u001b[0m\u001b[0;34m=\u001b[0m\u001b[0;34m(\u001b[0m\u001b[0mPT_list\u001b[0m\u001b[0;34m,\u001b[0m \u001b[0mb2_target\u001b[0m\u001b[0;34m)\u001b[0m\u001b[0;34m)\u001b[0m\u001b[0;34m\u001b[0m\u001b[0;34m\u001b[0m\u001b[0m\n\u001b[0m\u001b[1;32m      2\u001b[0m \u001b[0mresult\u001b[0m\u001b[0;34m\u001b[0m\u001b[0;34m\u001b[0m\u001b[0m\n",
      "\u001b[0;31mNameError\u001b[0m: name 'b2_target' is not defined"
     ]
    }
   ],
   "source": [
    "result = minimize(loss_b2, params_in, args=(PT_list, b2_target))\n",
    "result"
   ]
  },
  {
   "cell_type": "code",
   "execution_count": null,
   "metadata": {},
   "outputs": [],
   "source": []
  }
 ],
 "metadata": {
  "kernelspec": {
   "display_name": "Python 3",
   "language": "python",
   "name": "python3"
  },
  "language_info": {
   "codemirror_mode": {
    "name": "ipython",
    "version": 3
   },
   "file_extension": ".py",
   "mimetype": "text/x-python",
   "name": "python",
   "nbconvert_exporter": "python",
   "pygments_lexer": "ipython3",
   "version": "3.6.8"
  }
 },
 "nbformat": 4,
 "nbformat_minor": 2
}
