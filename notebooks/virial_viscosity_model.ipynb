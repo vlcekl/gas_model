{
 "cells": [
  {
   "cell_type": "code",
   "execution_count": 1,
   "metadata": {},
   "outputs": [],
   "source": [
    "import numpy as np"
   ]
  },
  {
   "cell_type": "code",
   "execution_count": 14,
   "metadata": {},
   "outputs": [],
   "source": [
    "def b2(T, sig=1.0, eps=1.0, verbose=True):\n",
    "    \"\"\"Returns second virial coefficient of Lennard-Jones fluid\n",
    "    \n",
    "    Parameters\n",
    "    ----------\n",
    "    T : float\n",
    "        Absolute temperature (K)\n",
    "    sig : float\n",
    "        Size parameter (Angstrom)\n",
    "    eps : float\n",
    "        Energy parameter (K) ##(kJ/mol)\n",
    "        \n",
    "    Returns\n",
    "    -------\n",
    "    b2 : float\n",
    "        second virial coefficient (cm^3/mol)\n",
    "    \"\"\"\n",
    "    \n",
    "    # Reduced temperature\n",
    "    #Tr = T*8.314472/(eps*1000.0)\n",
    "    Tr = T/eps\n",
    "    \n",
    "    # Check if the reduced temperature is safe range\n",
    "    if verbose and (Tr < 0.3 or Tr > 10000.0):\n",
    "        print(f'Temperature {Tr} K is not in range 298-3000 K.')\n",
    "        \n",
    "    # Reduced virial coefficient\n",
    "    Br  = 1.9863*Tr**(-0.25) - 1.5985*Tr**(-0.5) - 6.7636*Tr**(-1.5)\n",
    "    Br += 8.0952*Tr**(-2.0) - 4.8797*Tr**(-2.5) + 0.89417*Tr**(-3.5)\n",
    "    Br -= 0.25573*Tr**(-4.0) - 0.015386*Tr**(-5.0)\n",
    "    \n",
    "    Na = 6.0221409e23\n",
    "    b0 = 2*np.pi*Na*(sig*1e-8)**3/3\n",
    "    \n",
    "    B2 = Br*b0\n",
    "    \n",
    "    return B2"
   ]
  },
  {
   "cell_type": "code",
   "execution_count": 27,
   "metadata": {},
   "outputs": [
    {
     "data": {
      "text/plain": [
       "-63.99906747504426"
      ]
     },
     "execution_count": 27,
     "metadata": {},
     "output_type": "execute_result"
    }
   ],
   "source": [
    "b2(300, 3.61, 190.0)"
   ]
  },
  {
   "cell_type": "code",
   "execution_count": 37,
   "metadata": {},
   "outputs": [
    {
     "data": {
      "text/plain": [
       "13.659783549949355"
      ]
     },
     "execution_count": 37,
     "metadata": {},
     "output_type": "execute_result"
    }
   ],
   "source": [
    "b2(1000, 2.743, 35.35)"
   ]
  },
  {
   "cell_type": "code",
   "execution_count": null,
   "metadata": {},
   "outputs": [],
   "source": []
  },
  {
   "cell_type": "code",
   "execution_count": 38,
   "metadata": {},
   "outputs": [],
   "source": [
    "def collision_integ(Tr, l=1, s=1):\n",
    "    \"\"\"Collision integral for Lennard-Jones potential for a given reduced temperature\"\"\"\n",
    "    \n",
    "    Omega = a[l, s]\n",
    "    Omega += sum([b[l-1, s-1, k-1]*Tr**(-k) + c[l-1, s-1, k-1]*np.log(Tr)**k for k in range(1, 7)])\n",
    "    \n",
    "    return Omega"
   ]
  },
  {
   "cell_type": "code",
   "execution_count": null,
   "metadata": {},
   "outputs": [],
   "source": [
    "# tables of coefficients\n",
    "a = np.zeros((4, 7), dtype=float)\n",
    "b = np.zeros((4, 7, 6), dtype=float)\n",
    "c = np.zeros((4, 7, 6), dtype=float)\n",
    "\n",
    "\n",
    "-1.1036729, 1.3555554, 1.0677115, 0.80959899, 0.74128322 0.80998324 0.81808091 -0.92032979 2.5955799 1.6042745 0.82064641 0.79413652 1.2630491 2.2114636 1.5049809 2.6222393"
   ]
  },
  {
   "cell_type": "code",
   "execution_count": 40,
   "metadata": {},
   "outputs": [],
   "source": [
    "cc = np.loadtxt('../docs/coeffs_num.txt')"
   ]
  },
  {
   "cell_type": "code",
   "execution_count": 42,
   "metadata": {},
   "outputs": [
    {
     "data": {
      "text/plain": [
       "(13, 16)"
      ]
     },
     "execution_count": 42,
     "metadata": {},
     "output_type": "execute_result"
    }
   ],
   "source": [
    "cc.shape"
   ]
  },
  {
   "cell_type": "code",
   "execution_count": 45,
   "metadata": {},
   "outputs": [
    {
     "data": {
      "text/plain": [
       "array([[-1.1036729e+00,  1.3555554e+00,  1.0677115e+00,  8.0959899e-01,\n",
       "         7.4128322e-01,  8.0998324e-01,  8.1808091e-01, -9.2032979e-01,\n",
       "         2.5955799e+00,  1.6042745e+00,  8.2064641e-01,  7.9413652e-01,\n",
       "         1.2630491e+00,  2.2114636e+00,  1.5049809e+00,  2.6222393e+00],\n",
       "       [ 2.6431984e+00, -4.4668594e-01, -1.3945390e-01,  1.2938170e-01,\n",
       "         1.7788850e-01,  7.3071217e-02,  4.4232851e-02,  2.3508044e+00,\n",
       "        -1.8569443e+00, -6.7406115e-01,  2.3195128e-01,  2.3766123e-01,\n",
       "        -3.6104243e-01, -1.4743107e+00, -6.4335529e-01, -1.9158462e+00],\n",
       "       [ 1.6690746e+00, -4.7499422e-01, -2.5258689e-01, -4.5055948e-02,\n",
       "         1.3668724e-03, -7.1180849e-02, -8.9417548e-02,  1.6330213e+00,\n",
       "        -1.4586197e+00, -6.2774499e-01,  3.9184885e-02,  5.0470266e-02,\n",
       "        -3.3227158e-01, -1.1942554e+00, -6.0014514e-01, -1.4676253e+00],\n",
       "       [ 6.0432255e-03,  4.2734391e-01,  1.7696362e-01,  5.9760309e-02,\n",
       "         2.7398438e-02,  3.4607908e-02,  2.9750283e-02,  5.0110649e-01,\n",
       "         9.6985775e-01,  4.2671907e-01,  1.2233793e-01,  7.7125802e-02,\n",
       "         6.8116214e-01,  6.4918549e-01,  3.2617040e-01,  1.0166380e+00],\n",
       "       [-6.9145890e+00,  1.4482036e+00,  5.9709197e-01, -2.2642753e-01,\n",
       "        -4.1730962e-01, -1.2738119e-01, -5.1856424e-02, -6.9795156e+00,\n",
       "         5.2947262e+00,  2.0700644e+00, -5.7316906e-01, -6.2621672e-01,\n",
       "         7.9723851e-01,  4.3000688e+00,  1.9764859e+00,  5.3048161e+00],\n",
       "       [-1.5158773e+00, -1.6036459e+00, -2.6252211e-01,  7.1109469e-02,\n",
       "         7.6254248e-02, -1.1457199e-02, -2.2011682e-02, -4.7193769e+00,\n",
       "        -3.9888526e+00, -1.0177069e+00,  1.3891578e-01,  1.3060901e-01,\n",
       "        -3.6401583e+00, -2.4075196e+00, -8.2126072e-01, -4.3355278e+00],\n",
       "       [ 6.1742007e-01,  1.3860257e-01, -1.4382801e-01, -5.8149257e-02,\n",
       "        -9.2890016e-03,  2.1446483e-02,  1.4255704e-02,  1.8120118e+00,\n",
       "         5.6646797e-01, -3.5206051e-01, -3.5204303e-01, -9.5982571e-02,\n",
       "         1.0880886e+00,  2.9812326e-01, -1.5957252e-01,  8.0048534e-01],\n",
       "       [ 1.5502132e+00, -3.2158368e-01, -1.3332695e-01,  5.6672308e-02,\n",
       "         1.0378923e-01,  3.8582834e-02,  2.1882143e-02,  1.6096572e+00,\n",
       "        -1.1946363e+00, -4.7601690e-01,  1.2794497e-01,  1.4326724e-01,\n",
       "        -1.5470355e-01, -9.7525871e-01, -4.5212434e-01, -1.1909781e+00],\n",
       "       [ 5.4237938e-01,  3.1461648e-01, -4.3814141e-02, -6.3851124e-02,\n",
       "        -3.1650182e-02,  2.8198596e-03,  6.3264120e-03,  1.5806367e+00,\n",
       "         9.0063692e-01,  6.1857136e-03, -2.0903423e-01, -1.0982362e-01,\n",
       "         1.0500196e+00,  5.1820149e-01,  5.9682011e-02,  1.0496591e+00],\n",
       "       [-2.0642189e+00,  4.4357933e-01,  1.9619285e-01, -6.5708760e-02,\n",
       "        -1.3492954e-01, -4.7060425e-02, -2.4874471e-02, -2.2109440e+00,\n",
       "         1.6264589e+00,  6.7153792e-01, -1.5336449e-01, -1.7806541e-01,\n",
       "         1.8686705e-01,  1.3399366e+00,  6.3650284e-01,  1.6123847e+00],\n",
       "       [-9.0468682e-01, -3.2587575e-01,  1.6752100e-01,  1.0498938e-01,\n",
       "         3.2786518e-02, -2.0060540e-02, -1.7555530e-02, -2.6367184e+00,\n",
       "        -1.0918991e+00,  3.1225358e-01,  4.6715462e-01,  1.8034505e-01,\n",
       "        -1.6400134e+00, -6.0565396e-01,  1.0269488e-01, -1.3951104e+00],\n",
       "       [ 1.5402077e+00, -3.4138118e-01, -1.6063076e-01,  4.0733113e-02,\n",
       "         9.6963599e-02,  3.0466929e-02,  1.3745859e-02,  1.7031434e+00,\n",
       "        -1.2354315e+00, -5.2706167e-01,  1.0241454e-01,  1.2353365e-01,\n",
       "        -1.2179945e-01, -1.0283777e+00, -4.9991689e-01, -1.2174905e+00],\n",
       "       [-4.9729535e-01,  1.1259742e-01,  5.5804557e-02, -1.0820157e-02,\n",
       "        -3.0307552e-02, -8.5305576e-03, -3.0285365e-03, -5.6699986e-01,\n",
       "         4.0366357e-01,  1.7705708e-01, -2.9975563e-02, -3.7501381e-02,\n",
       "         3.2594587e-02,  3.3956674e-01,  1.6833944e-01,  3.9545100e-01]])"
      ]
     },
     "execution_count": 45,
     "metadata": {},
     "output_type": "execute_result"
    }
   ],
   "source": [
    "cc"
   ]
  },
  {
   "cell_type": "code",
   "execution_count": null,
   "metadata": {},
   "outputs": [],
   "source": []
  }
 ],
 "metadata": {
  "kernelspec": {
   "display_name": "Python 3",
   "language": "python",
   "name": "python3"
  },
  "language_info": {
   "codemirror_mode": {
    "name": "ipython",
    "version": 3
   },
   "file_extension": ".py",
   "mimetype": "text/x-python",
   "name": "python",
   "nbconvert_exporter": "python",
   "pygments_lexer": "ipython3",
   "version": "3.6.8"
  }
 },
 "nbformat": 4,
 "nbformat_minor": 2
}
