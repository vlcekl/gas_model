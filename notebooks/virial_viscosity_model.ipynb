{
 "cells": [
  {
   "cell_type": "markdown",
   "metadata": {},
   "source": [
    "# Optimization of Lennard-Jones potential for low density limit"
   ]
  },
  {
   "cell_type": "code",
   "execution_count": 1,
   "metadata": {},
   "outputs": [],
   "source": [
    "%matplotlib inline\n",
    "from itertools import product\n",
    "import numpy as np\n",
    "from scipy.optimize import minimize\n",
    "import matplotlib.pyplot as plt"
   ]
  },
  {
   "cell_type": "markdown",
   "metadata": {},
   "source": [
    "## Second virial coefficient as a function of temperature and LJ parameters"
   ]
  },
  {
   "cell_type": "code",
   "execution_count": 2,
   "metadata": {},
   "outputs": [],
   "source": [
    "def b2(T, sig=1.0, eps=1.0, verbose=False):\n",
    "    \"\"\"Returns second virial coefficient of Lennard-Jones fluid\n",
    "\n",
    "    Parameters\n",
    "    ----------\n",
    "    T : float\n",
    "        Absolute temperature (K)\n",
    "    sig : float\n",
    "        Size parameter (Angstrom)\n",
    "    eps : float\n",
    "        Energy parameter (K)\n",
    "\n",
    "    Returns\n",
    "    -------\n",
    "    b2 : float\n",
    "        second virial coefficient (m^3/mol)\n",
    "    \"\"\"\n",
    "\n",
    "    # Reduced temperature\n",
    "    #Tr = T*8.314472/(eps*1000.0)\n",
    "    Tr = T/eps\n",
    "    \n",
    "    # Check if the reduced temperature is safe range\n",
    "    if verbose and (Tr < 0.3 or Tr > 10000.0):\n",
    "        print(f'Temperature {Tr} K is not in range 298-3000 K.')\n",
    "\n",
    "    # Reduced virial coefficient\n",
    "    Br  = 1.9863*Tr**(-0.25) - 1.5985*Tr**(-0.5) - 6.7636*Tr**(-1.5)\n",
    "    Br += 8.0952*Tr**(-2.0) - 4.8797*Tr**(-2.5) + 0.89417*Tr**(-3.5)\n",
    "    Br -= 0.25573*Tr**(-4.0)\n",
    "    Br -= 0.015386*Tr**(-5.0)\n",
    "\n",
    "    Na = 6.0221409e23\n",
    "    b0 = 2*np.pi*Na*(sig*1e-10)**3/3\n",
    "    \n",
    "    B2 = Br*b0\n",
    "    \n",
    "    return B2"
   ]
  },
  {
   "cell_type": "code",
   "execution_count": 3,
   "metadata": {},
   "outputs": [],
   "source": [
    "\n",
    "def b2n(T, sig=1.0, eps=1.0, verbose=False):\n",
    "    \"\"\"Returns second virial coefficient of Lennard-Jones fluid\n",
    "\n",
    "    Parameters\n",
    "    ----------\n",
    "    T : float\n",
    "        Absolute temperature (K)\n",
    "    sig : float\n",
    "        Size parameter (Angstrom)\n",
    "    eps : float\n",
    "        Energy parameter (K)\n",
    "\n",
    "    Returns\n",
    "    -------\n",
    "    b2 : float\n",
    "        second virial coefficient (m^3/mol)\n",
    "    \"\"\"\n",
    "\n",
    "    # effective sigma & epsilon\n",
    "        \n",
    "    ST = 1.0988883 + 284.600188/T\n",
    "    sig_eff = sig*ST**(-1/6)\n",
    "    eps_eff = eps*ST**2\n",
    "    \n",
    "    # Reduced temperature\n",
    "    #Tr = T*8.314472/(eps*1000.0)\n",
    "    Tr = T/eps_eff\n",
    "    \n",
    "    # Check if the reduced temperature is safe range\n",
    "    if verbose and (Tr < 0.3 or Tr > 10000.0):\n",
    "        print(f'Temperature {Tr} K is not in range 298-3000 K.')\n",
    "\n",
    "    # Reduced virial coefficient\n",
    "    \n",
    "    Br = 7.8063*(1/Tr)**0.5 - 39.354*(1/Tr) + 92.147*(1/Tr)**1.5 - 121.58*(1/Tr)**2 \n",
    "    Br += 72.269*(1/Tr)**2.5 - 0.37916*(1/Tr)**5 - 22.044*(1/Tr)**3.5 + 8.5833*(1/Tr)**4\n",
    "\n",
    "#     Br  = 1.9863*Tr**(-0.25) - 1.5985*Tr**(-0.5) - 6.7636*Tr**(-1.5)\n",
    "#     Br += 8.0952*Tr**(-2.0) - 4.8797*Tr**(-2.5) + 0.89417*Tr**(-3.5)\n",
    "#     Br -= 0.25573*Tr**(-4.0)\n",
    "#     Br -= 0.015386*Tr**(-5.0)\n",
    "\n",
    "    Na = 6.0221409e23\n",
    "    b0 = 2*np.pi*Na*(sig_eff*1e-10)**3/3\n",
    "    \n",
    "    B2 = Br*b0\n",
    "    \n",
    "    return B2"
   ]
  },
  {
   "cell_type": "code",
   "execution_count": 6,
   "metadata": {},
   "outputs": [],
   "source": [
    "def density(P, T, b2):\n",
    "    \"\"\"\n",
    "    Uses SI units\n",
    "    \"\"\"\n",
    "    \n",
    "    R = 8.314472\n",
    "    rho = (-1 + np.sqrt(1 + 4*P*b2/(R*T))) / (2*b2)\n",
    "    \n",
    "    return rho"
   ]
  },
  {
   "cell_type": "markdown",
   "metadata": {},
   "source": [
    "## Reduced collision integrals for LJ potential"
   ]
  },
  {
   "cell_type": "code",
   "execution_count": 7,
   "metadata": {},
   "outputs": [],
   "source": [
    "class Omega:\n",
    "    \"\"\"Collision integrals for Lennard-Jones potential\"\"\"\n",
    "    \n",
    "    def __init__(self, coeffs):\n",
    "        if isinstance(coeffs, dict):\n",
    "            self.coeffs = coeffs\n",
    "        elif isinstance(coeffs, np.ndarray):\n",
    "            self.coeffs = self.make_dict(coeffs)\n",
    "        else:\n",
    "            raise TypeError\n",
    "            \n",
    "    def make_dict(self, coeffs_array):\n",
    "        \"\"\"Creates a dictionary from supplied coefficient ndarray.\n",
    "        \n",
    "        Works for a particular structure of ndarray - should be modified\n",
    "        if other format is used.\n",
    "        \"\"\"\n",
    "        \n",
    "        ls_tuples = [(1, i) for i in range(1, 8)] + [(2, i) for i in range(2, 7)] + [(3,3), (3,4), (3,5), (4,4)]\n",
    "        b_list = [1, 3, 5, 8, 10, 6]\n",
    "        c_list = [2, 4, 7, 9, 11, 12]\n",
    "        b_fac = np.array([1., 1., 10., 10., 100., 1000.])\n",
    "        c_fac = np.array([1., 10., 10., 100., 1000., 10000.])\n",
    "\n",
    "        coeffs = {}\n",
    "        for i in range(16):\n",
    "            ls = ls_tuples[i]\n",
    "            coeffs[ls] = {}\n",
    "            coeffs[ls]['a'] = coeffs_array[0,i]\n",
    "            coeffs[ls]['b'] = coeffs_array[b_list, i]/b_fac\n",
    "            coeffs[ls]['c'] = coeffs_array[c_list, i]/c_fac\n",
    "\n",
    "        return coeffs\n",
    "        \n",
    "    def get(self, Tr, l=1, s=1):\n",
    "        \"\"\"Returns collision integral for a given temperature\"\"\"\n",
    "        coeff = self.coeffs[(l, s)]\n",
    "        b = coeff['b']\n",
    "        c = coeff['c']\n",
    "        omega = coeff['a']\n",
    "        omega += sum([b[k-1]*Tr**(-k) + c[k-1]*np.log(Tr)**k for k in range(1, 7)])\n",
    "    \n",
    "        return omega"
   ]
  },
  {
   "cell_type": "code",
   "execution_count": 8,
   "metadata": {},
   "outputs": [],
   "source": [
    "# read data from file\n",
    "cc = np.loadtxt('../data/raw/coeffs_num.txt')"
   ]
  },
  {
   "cell_type": "code",
   "execution_count": 9,
   "metadata": {},
   "outputs": [],
   "source": [
    "omg = Omega(cc)"
   ]
  },
  {
   "cell_type": "code",
   "execution_count": 10,
   "metadata": {},
   "outputs": [
    {
     "data": {
      "text/plain": [
       "1.1127095589290001"
      ]
     },
     "execution_count": 10,
     "metadata": {},
     "output_type": "execute_result"
    }
   ],
   "source": [
    "omg.get(1.0, 2, 6)"
   ]
  },
  {
   "cell_type": "code",
   "execution_count": 11,
   "metadata": {},
   "outputs": [],
   "source": [
    "def diff_correction(Tr):\n",
    "    \n",
    "    o_11 = omg.get(Tr, 1, 1)\n",
    "    o_12 = omg.get(Tr, 1, 2)\n",
    "    o_13 = omg.get(Tr, 1, 3)\n",
    "    o_22 = omg.get(Tr, 2, 2)\n",
    "    \n",
    "    A = o_22/o_11\n",
    "    B = (5*o_12 - 4*o_13)/o_11\n",
    "    C = o_12/o_11\n",
    "    \n",
    "    fd = 1 - (6*C - 5)**2 / (55 - 12*B + 16*A)\n",
    "    fd /= 1.0\n",
    "    \n",
    "    return fd"
   ]
  },
  {
   "cell_type": "markdown",
   "metadata": {},
   "source": [
    "## Target data\n",
    "\n",
    "* Second virial coefficient over a range of temperatures (i.e., low density equation of state)\n",
    "* Low-density viscosities"
   ]
  },
  {
   "cell_type": "code",
   "execution_count": 12,
   "metadata": {},
   "outputs": [],
   "source": [
    "b2_experiment = np.loadtxt('../data/raw/b2_h2o.txt')"
   ]
  },
  {
   "cell_type": "code",
   "execution_count": 48,
   "metadata": {},
   "outputs": [],
   "source": [
    "# construct target data, with Pressure set to 1 Pa and b2 set in SI units (m^3/mol converted from cm^3/mol)\n",
    "target_eos = [(100, T, b2*1e-6) for T, b2 in b2_experiment]"
   ]
  },
  {
   "cell_type": "markdown",
   "metadata": {},
   "source": [
    "## Optimization\n",
    "\n",
    "* Optimize over a range of temperatures (and pressures)"
   ]
  },
  {
   "cell_type": "code",
   "execution_count": 66,
   "metadata": {},
   "outputs": [],
   "source": [
    "def loss_rho(params, target):\n",
    "    \"\"\"\n",
    "    Statistical distance based on the equation of state\n",
    "    \"\"\"\n",
    "        \n",
    "    s2 = 0.0\n",
    "    for P, T, b2_t in target:\n",
    "        #if T < 647.0:\n",
    "        if T < 1000.0:\n",
    "            continue\n",
    "            \n",
    "        b2_m = b2n(T, params[0], params[1])\n",
    "        \n",
    "        rho_m = density(P, T, b2_m)\n",
    "        rho_t = density(P, T, b2_t)\n",
    "        \n",
    "        var_m = rho_m/(1+2*b2_m*rho_m)\n",
    "        var_t = rho_t/(1+2*b2_t*rho_t)\n",
    "        \n",
    "        \n",
    "        cb = np.exp(-(rho_m - rho_t)**2/(4*(var_m + var_t)) + np.log(np.sqrt(2*np.sqrt(var_m*var_t)/(var_m + var_t))))\n",
    "        #cb *= np.sqrt(2*np.sqrt(var_m*var_t)/(var_m + var_t))\n",
    "        \n",
    "        #print(P, T, rho_t, var_t/rho_t**2, var_t, b2_t*1e6, (rho_m-rho_t)**2, (rho_m - rho_t)**2/(4*(var_m + var_t)))\n",
    "        \n",
    "        #print((rho_m - rho_t)**2/(4*(var_m + var_t)))\n",
    "        #print('rho', rho_t, rho_m)\n",
    "        #print('fac', -1e22*(rho_m - rho_t)**2/(4*(var_m + var_t)), np.sqrt(2*np.sqrt(var_m*var_t)/(var_m + var_t)))\n",
    "        #print('dat', P, T, rho_t, b2_t*1e6, b2_m*1e6, rho_m - rho_t, cb, *params)\n",
    "\n",
    "\n",
    "        #s2 += np.arccos(cb)**2\n",
    "\n",
    "        s2 += (rho_m - rho_t)**2/(4*(var_m + var_t)) - np.log(np.sqrt(2*np.sqrt(var_m*var_t)/(var_m + var_t)))\n",
    "    s2 /= len(target)\n",
    "\n",
    "    #print('s2:', s2)\n",
    "    return s2"
   ]
  },
  {
   "cell_type": "code",
   "execution_count": 90,
   "metadata": {},
   "outputs": [],
   "source": [
    "def loss_b2(params, target):\n",
    "    # ignoring prefactor V/(k_B)^3\n",
    "    # If P is only one (P->0), it can be included in the prefactor\n",
    "    loss = 0.0\n",
    "    for P, T, b2_t in target:\n",
    "        #if T < 647.0:\n",
    "        if T < 1000.0:\n",
    "            continue\n",
    "        \n",
    "        b2_m = b2n(T, params[0], params[1])\n",
    "\n",
    "        #print(P, T, b2_t*1e6, b2_m*1e6)\n",
    "        loss += (P/T)**3 * (b2_m - b2_t)**2\n",
    "        #loss += (b2_m - b2_t)**2\n",
    "\n",
    "    return loss"
   ]
  },
  {
   "cell_type": "code",
   "execution_count": 91,
   "metadata": {},
   "outputs": [],
   "source": [
    "# initial parameters (sigma (A), epsilon (K))\n",
    "params_in = np.array([2.92, 293.7])"
   ]
  },
  {
   "cell_type": "code",
   "execution_count": 92,
   "metadata": {},
   "outputs": [
    {
     "data": {
      "text/plain": [
       " final_simplex: (array([[  3.10998031, 271.41784819],\n",
       "       [  3.10998034, 271.41781461],\n",
       "       [  3.10997983, 271.41787385]]), array([7.47125917e-17, 7.47125917e-17, 7.47125917e-17]))\n",
       "           fun: 7.471259170272014e-17\n",
       "       message: 'Optimization terminated successfully.'\n",
       "          nfev: 92\n",
       "           nit: 47\n",
       "        status: 0\n",
       "       success: True\n",
       "             x: array([  3.10998031, 271.41784819])"
      ]
     },
     "execution_count": 92,
     "metadata": {},
     "output_type": "execute_result"
    }
   ],
   "source": [
    "result = minimize(loss_b2, params_in, method='Nelder-Mead', args=(target_eos,))\n",
    "result"
   ]
  },
  {
   "cell_type": "code",
   "execution_count": 93,
   "metadata": {},
   "outputs": [],
   "source": [
    "params_b2opt = result['x']"
   ]
  },
  {
   "cell_type": "code",
   "execution_count": 71,
   "metadata": {},
   "outputs": [
    {
     "data": {
      "text/plain": [
       " final_simplex: (array([[  3.07676465, 275.45130616],\n",
       "       [  3.07676465, 275.45130616],\n",
       "       [  3.07676465, 275.45130616]]), array([1.77832608e-21, 1.77832608e-21, 6.34590989e-18]))\n",
       "           fun: 1.778326084019294e-21\n",
       "       message: 'Maximum number of iterations has been exceeded.'\n",
       "          nfev: 39863\n",
       "           nit: 10000\n",
       "        status: 2\n",
       "       success: False\n",
       "             x: array([  3.07676465, 275.45130616])"
      ]
     },
     "execution_count": 71,
     "metadata": {},
     "output_type": "execute_result"
    }
   ],
   "source": [
    "result = minimize(loss_rho, params_in, method='Nelder-Mead', args=(target_eos,), tol=1e-16, options={'maxiter':1e4})\n",
    "result"
   ]
  },
  {
   "cell_type": "code",
   "execution_count": 72,
   "metadata": {},
   "outputs": [],
   "source": [
    "params_best = np.array([3.10920117, 273.45076171])"
   ]
  },
  {
   "cell_type": "code",
   "execution_count": 73,
   "metadata": {},
   "outputs": [],
   "source": [
    "params_optimal = result['x']"
   ]
  },
  {
   "cell_type": "code",
   "execution_count": 74,
   "metadata": {},
   "outputs": [
    {
     "data": {
      "text/plain": [
       "array([  3.07676465, 275.45130616])"
      ]
     },
     "execution_count": 74,
     "metadata": {},
     "output_type": "execute_result"
    }
   ],
   "source": [
    "params_optimal"
   ]
  },
  {
   "cell_type": "code",
   "execution_count": 75,
   "metadata": {},
   "outputs": [
    {
     "data": {
      "text/plain": [
       "array([  2.92, 293.7 ])"
      ]
     },
     "execution_count": 75,
     "metadata": {},
     "output_type": "execute_result"
    }
   ],
   "source": [
    "params_in"
   ]
  },
  {
   "cell_type": "code",
   "execution_count": 94,
   "metadata": {},
   "outputs": [],
   "source": [
    "# Model virial coefficient\n",
    "b2_model = []\n",
    "b2_start = []\n",
    "b2_b2opt = []\n",
    "b2_dens = []\n",
    "for P, T, b2_t in target_eos:\n",
    "#    if T < 647.0:\n",
    "#        continue\n",
    "    b2_model.append(b2n(T, params_optimal[0], params_optimal[1]))\n",
    "    b2_start.append(b2n(T, params_in[0], params_in[1]))\n",
    "    b2_b2opt.append(b2n(T, params_b2opt[0], params_b2opt[1]))\n",
    "    b2_dens.append(b2n(T, params_best[0], params_best[1]))\n",
    "\n",
    "b2_model = np.array(b2_model)\n",
    "b2_start = np.array(b2_start)\n",
    "b2_b2opt = np.array(b2_b2opt)\n",
    "b2_dens = np.array(b2_dens)"
   ]
  },
  {
   "cell_type": "code",
   "execution_count": 96,
   "metadata": {},
   "outputs": [
    {
     "data": {
      "text/plain": [
       "Text(0.5, 1.0, 'Second virial coefficient optimized in T-range 1000 - 3000K')"
      ]
     },
     "execution_count": 96,
     "metadata": {},
     "output_type": "execute_result"
    },
    {
     "data": {
      "image/png": "[encoded data removed]",
      "text/plain": [
       "<Figure size 1440x720 with 1 Axes>"
      ]
     },
     "metadata": {},
     "output_type": "display_data"
    }
   ],
   "source": [
    "plt.figure(figsize=(20,10))\n",
    "Temp = np.array(target_eos)[:,1]\n",
    "plt.plot(Temp, np.array(target_eos)[:,2]*1e6, 'ko--', ms=8, label='Target (experiment)')\n",
    "plt.plot(Temp, b2_start*1e6, 'rs--', ms=8, label='Ariel\\'s')\n",
    "plt.plot(Temp, b2_model*1e6, 'gv--', ms=8, label='Optimized full')\n",
    "plt.plot(Temp, b2_b2opt*1e6, 'bx--', ms=8, label='Optimized simplified')\n",
    "#plt.plot(Temp, b2_dens*1e6, 'mx--', ms=8, label='Looks best')\n",
    "\n",
    "plt.xlabel('T[K]', fontsize=20)\n",
    "plt.ylabel('$B_2$[cm$^3$/mol]', fontsize=20)\n",
    "plt.legend(fontsize=20)\n",
    "\n",
    "plt.ylim(-150, 20)\n",
    "plt.xlim(500,3000)\n",
    "plt.title('Second virial coefficient optimized in T-range 1000 - 3000K', fontsize=30)"
   ]
  },
  {
   "cell_type": "code",
   "execution_count": 97,
   "metadata": {},
   "outputs": [
    {
     "name": "stdout",
     "output_type": "stream",
     "text": [
      "[2.83 2.86 2.89 2.92 2.95 2.98 3.01 3.04 3.07 3.1  3.13 3.16 3.19 3.22\n",
      " 3.25 3.28 3.31 3.34 3.37 3.4  3.43 3.46 3.49 3.52 3.55 3.58 3.61 3.64\n",
      " 3.67 3.7  3.73 3.76 3.79 3.82 3.85 3.88 3.91 3.94 3.97 4.  ]\n",
      "[352. 355. 358. 361. 364. 367. 370. 373. 376. 379. 382. 385. 388. 391.\n",
      " 394. 397. 400. 403. 406. 409. 412. 415. 418. 421. 424. 427. 430. 433.\n",
      " 436. 439. 442. 445. 448. 451. 454. 457. 460. 463. 466. 469.]\n"
     ]
    }
   ],
   "source": [
    "print(np.linspace(2.83, 4.0, 40))\n",
    "print(np.linspace(352., 469., 40))"
   ]
  },
  {
   "cell_type": "code",
   "execution_count": 85,
   "metadata": {},
   "outputs": [],
   "source": [
    "sig_list = np.linspace(2.83, 3.2, 40)\n",
    "eps_list = np.linspace(252., 369., 40)\n",
    "\n",
    "n_sig = len(sig_list)\n",
    "n_eps = len(eps_list)\n",
    "\n",
    "s2_profiles = np.empty((n_sig, n_eps), dtype=float)\n",
    "pars_profiles = np.empty((n_sig, n_eps, 2), dtype=float)\n",
    "for i, j in product(range(n_sig), range(n_eps)):\n",
    "    sig = sig_list[i]\n",
    "    eps = eps_list[j]\n",
    "    pars_in = np.array([sig, eps])\n",
    "    #print(pars_in)\n",
    "    s2 = loss_rho(pars_in, target_eos)\n",
    "    #s2 = loss_b2(pars_in, target_eos)\n",
    "\n",
    "    s2_profiles[i, j] = s2\n",
    "    pars_profiles[i, j, :] = pars_in"
   ]
  },
  {
   "cell_type": "code",
   "execution_count": 86,
   "metadata": {},
   "outputs": [
    {
     "name": "stdout",
     "output_type": "stream",
     "text": [
      "[  3.12410256 270.        ]\n"
     ]
    },
    {
     "data": {
      "image/png": "[encoded data removed]",
      "text/plain": [
       "<Figure size 720x720 with 1 Axes>"
      ]
     },
     "metadata": {},
     "output_type": "display_data"
    }
   ],
   "source": [
    "import matplotlib.ticker as ticker\n",
    "\n",
    "fig, axes = plt.subplots(nrows=1, ncols=1, figsize=(10,10))\n",
    "im = axes.matshow(s2_profiles)\n",
    "indices = np.unravel_index(np.argmin(s2_profiles, axis=None), s2_profiles.shape)\n",
    "axes.xaxis.set_major_locator(ticker.MultipleLocator(5))\n",
    "axes.yaxis.set_major_locator(ticker.MultipleLocator(5))\n",
    "axes.set_xticklabels([str(round(v-0.15, 2)) for v in sig_list[::5]])\n",
    "axes.set_yticklabels([str(round(v-15, 2)) for v in eps_list[::5]])\n",
    "\n",
    "#axes.set_yticklabels(ticklabels)\n",
    "axes.set_xlabel('$\\sigma [\\AA]$ ', fontsize=15)\n",
    "axes.set_ylabel('$\\epsilon [K]$', fontsize=15)\n",
    "pars_optimal = pars_profiles[indices]\n",
    "print(pars_optimal)\n",
    "#axes.set_title('Total\\n Optimal parameters: ' + str(params_dens), fontsize=20)"
   ]
  },
  {
   "cell_type": "code",
   "execution_count": 87,
   "metadata": {},
   "outputs": [
    {
     "data": {
      "text/plain": [
       "2.205666513711339e-21"
      ]
     },
     "execution_count": 87,
     "metadata": {},
     "output_type": "execute_result"
    }
   ],
   "source": [
    "np.min(s2_profiles)"
   ]
  },
  {
   "cell_type": "code",
   "execution_count": null,
   "metadata": {},
   "outputs": [],
   "source": []
  }
 ],
 "metadata": {
  "kernelspec": {
   "display_name": "Python 3",
   "language": "python",
   "name": "python3"
  },
  "language_info": {
   "codemirror_mode": {
    "name": "ipython",
    "version": 3
   },
   "file_extension": ".py",
   "mimetype": "text/x-python",
   "name": "python",
   "nbconvert_exporter": "python",
   "pygments_lexer": "ipython3",
   "version": "3.6.8"
  }
 },
 "nbformat": 4,
 "nbformat_minor": 2
}
