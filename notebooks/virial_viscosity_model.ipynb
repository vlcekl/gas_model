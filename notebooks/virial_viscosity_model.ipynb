{
 "cells": [
  {
   "cell_type": "code",
   "execution_count": 1,
   "metadata": {},
   "outputs": [],
   "source": [
    "import numpy as np"
   ]
  },
  {
   "cell_type": "code",
   "execution_count": 14,
   "metadata": {},
   "outputs": [],
   "source": [
    "def b2(T, sig=1.0, eps=1.0, verbose=True):\n",
    "    \"\"\"Returns second virial coefficient of Lennard-Jones fluid\n",
    "    \n",
    "    Parameters\n",
    "    ----------\n",
    "    T : float\n",
    "        Absolute temperature (K)\n",
    "    sig : float\n",
    "        Size parameter (Angstrom)\n",
    "    eps : float\n",
    "        Energy parameter (K) ##(kJ/mol)\n",
    "        \n",
    "    Returns\n",
    "    -------\n",
    "    b2 : float\n",
    "        second virial coefficient (cm^3/mol)\n",
    "    \"\"\"\n",
    "    \n",
    "    # Reduced temperature\n",
    "    #Tr = T*8.314472/(eps*1000.0)\n",
    "    Tr = T/eps\n",
    "    \n",
    "    # Check if the reduced temperature is safe range\n",
    "    if verbose and (Tr < 0.3 or Tr > 10000.0):\n",
    "        print(f'Temperature {Tr} K is not in range 298-3000 K.')\n",
    "        \n",
    "    # Reduced virial coefficient\n",
    "    Br  = 1.9863*Tr**(-0.25) - 1.5985*Tr**(-0.5) - 6.7636*Tr**(-1.5)\n",
    "    Br += 8.0952*Tr**(-2.0) - 4.8797*Tr**(-2.5) + 0.89417*Tr**(-3.5)\n",
    "    Br -= 0.25573*Tr**(-4.0) - 0.015386*Tr**(-5.0)\n",
    "    \n",
    "    Na = 6.0221409e23\n",
    "    b0 = 2*np.pi*Na*(sig*1e-8)**3/3\n",
    "    \n",
    "    B2 = Br*b0\n",
    "    \n",
    "    return B2"
   ]
  },
  {
   "cell_type": "code",
   "execution_count": 27,
   "metadata": {},
   "outputs": [
    {
     "data": {
      "text/plain": [
       "-63.99906747504426"
      ]
     },
     "execution_count": 27,
     "metadata": {},
     "output_type": "execute_result"
    }
   ],
   "source": [
    "b2(300, 3.61, 190.0)"
   ]
  },
  {
   "cell_type": "code",
   "execution_count": 106,
   "metadata": {},
   "outputs": [],
   "source": [
    "class Omega:\n",
    "    \"\"\"Collision integrals for Lennard-Jones potential\"\"\"\n",
    "    \n",
    "    def __init__(self, coeffs):\n",
    "        if isinstance(coeffs, dict):\n",
    "            self.coeffs = coeffs\n",
    "        elif isinstance(coeffs, np.ndarray):\n",
    "            self.coeffs = self.make_dict(coeffs)\n",
    "        else:\n",
    "            raise TypeError\n",
    "            \n",
    "    def make_dict(self, coeffs_array):\n",
    "        \"\"\"Creates a dictionary from supplied coefficient ndarray.\n",
    "        \n",
    "        Works for a particular structure of ndarray - should be modified\n",
    "        if other format is used.\n",
    "        \"\"\"\n",
    "        \n",
    "        ls_tuples = [(1, i) for i in range(1, 8)] + [(2, i) for i in range(2, 7)] + [(3,3), (3,4), (3,5), (4,4)]\n",
    "        b_list = [1, 3, 5, 8, 10, 6]\n",
    "        c_list = [2, 4, 7, 9, 11, 12]\n",
    "        b_fac = np.array([1., 1., 10., 10., 100., 1000.])\n",
    "        c_fac = np.array([1., 10., 10., 100., 1000., 10000.])\n",
    "\n",
    "        coeffs = {}\n",
    "        for i in range(16):\n",
    "            ls = ls_tuples[i]\n",
    "            coeffs[ls] = {}\n",
    "            coeffs[ls]['a'] = coeffs_array[0,i]\n",
    "            coeffs[ls]['b'] = coeffs_array[b_list, i]/b_fac\n",
    "            coeffs[ls]['c'] = coeffs_array[c_list, i]/c_fac\n",
    "\n",
    "        return coeffs\n",
    "        \n",
    "    def get(self, Tr, l=1, s=1):\n",
    "        \"\"\"Returns collision integral for a given temperature\"\"\"\n",
    "        coeff = self.coeffs[(l, s)]\n",
    "        b = coeff['b']\n",
    "        c = coeff['c']\n",
    "        omega = coeff['a']\n",
    "        omega += sum([b[k-1]*Tr**(-k) + c[k-1]*np.log(Tr)**k for k in range(1, 7)])\n",
    "    \n",
    "        return omega"
   ]
  },
  {
   "cell_type": "code",
   "execution_count": 107,
   "metadata": {},
   "outputs": [],
   "source": [
    "# read data from file\n",
    "cc = np.loadtxt('../data/raw/coeffs_num.txt')"
   ]
  },
  {
   "cell_type": "code",
   "execution_count": 108,
   "metadata": {},
   "outputs": [],
   "source": [
    "omg = Omega(cc)"
   ]
  },
  {
   "cell_type": "code",
   "execution_count": 109,
   "metadata": {},
   "outputs": [
    {
     "data": {
      "text/plain": [
       "1.1127095589290001"
      ]
     },
     "execution_count": 109,
     "metadata": {},
     "output_type": "execute_result"
    }
   ],
   "source": [
    "omg.get(1.0, 2, 6)"
   ]
  },
  {
   "cell_type": "code",
   "execution_count": null,
   "metadata": {},
   "outputs": [],
   "source": []
  }
 ],
 "metadata": {
  "kernelspec": {
   "display_name": "Python 3",
   "language": "python",
   "name": "python3"
  },
  "language_info": {
   "codemirror_mode": {
    "name": "ipython",
    "version": 3
   },
   "file_extension": ".py",
   "mimetype": "text/x-python",
   "name": "python",
   "nbconvert_exporter": "python",
   "pygments_lexer": "ipython3",
   "version": "3.6.8"
  }
 },
 "nbformat": 4,
 "nbformat_minor": 2
}
